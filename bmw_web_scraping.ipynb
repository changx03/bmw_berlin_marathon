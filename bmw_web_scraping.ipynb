{
 "cells": [
  {
   "cell_type": "code",
   "execution_count": 7,
   "id": "88c45b33-634b-4827-94e2-fbd9da264365",
   "metadata": {},
   "outputs": [],
   "source": [
    "import requests\n",
    "import time\n",
    "import pandas as pd\n",
    "from tqdm import tqdm\n",
    "import numpy as np"
   ]
  },
  {
   "cell_type": "code",
   "execution_count": 2,
   "id": "a450978d-4491-4ec5-9e8b-dcc63080f5fa",
   "metadata": {},
   "outputs": [],
   "source": [
    "def get_querystr(start):\n",
    "    queryurl = 'https://www.bmw-berlin-marathon.com/?eID=tx_scctiming_results&competition=1903&draw=3&columns%5B0%5D%5Bdata%5D&columns%5B0%5D%5Bname%5D=details-control&columns%5B0%5D%5Bsearchable%5D=false&columns%5B0%5D%5Borderable%5D=false&columns%5B0%5D%5Bsearch%5D%5Bvalue%5D&columns%5B0%5D%5Bsearch%5D%5Bregex%5D=false&columns%5B1%5D%5Bdata%5D=placetotal&columns%5B1%5D%5Bname%5D=field-placetotal&columns%5B1%5D%5Bsearchable%5D=true&columns%5B1%5D%5Borderable%5D=true&columns%5B1%5D%5Bsearch%5D%5Bvalue%5D&columns%5B1%5D%5Bsearch%5D%5Bregex%5D=false&columns%5B2%5D%5Bdata%5D=forename&columns%5B2%5D%5Bname%5D=field-forename&columns%5B2%5D%5Bsearchable%5D=true&columns%5B2%5D%5Borderable%5D=true&columns%5B2%5D%5Bsearch%5D%5Bvalue%5D&columns%5B2%5D%5Bsearch%5D%5Bregex%5D=false&columns%5B3%5D%5Bdata%5D=name&columns%5B3%5D%5Bname%5D=field-name&columns%5B3%5D%5Bsearchable%5D=true&columns%5B3%5D%5Borderable%5D=true&columns%5B3%5D%5Bsearch%5D%5Bvalue%5D&columns%5B3%5D%5Bsearch%5D%5Bregex%5D=false&columns%5B4%5D%5Bdata%5D=nationality&columns%5B4%5D%5Bname%5D=field-nationality&columns%5B4%5D%5Bsearchable%5D=true&columns%5B4%5D%5Borderable%5D=true&columns%5B4%5D%5Bsearch%5D%5Bvalue%5D&columns%5B4%5D%5Bsearch%5D%5Bregex%5D=false&columns%5B5%5D%5Bdata%5D=start_no_text&columns%5B5%5D%5Bname%5D=field-start_no_text&columns%5B5%5D%5Bsearchable%5D=true&columns%5B5%5D%5Borderable%5D=true&columns%5B5%5D%5Bsearch%5D%5Bvalue%5D&columns%5B5%5D%5Bsearch%5D%5Bregex%5D=false&columns%5B6%5D%5Bdata%5D=club&columns%5B6%5D%5Bname%5D=field-club&columns%5B6%5D%5Bsearchable%5D=true&columns%5B6%5D%5Borderable%5D=true&columns%5B6%5D%5Bsearch%5D%5Bvalue%5D&columns%5B6%5D%5Bsearch%5D%5Bregex%5D=false&columns%5B7%5D%5Bdata%5D=sex&columns%5B7%5D%5Bname%5D=field-sex&columns%5B7%5D%5Bsearchable%5D=true&columns%5B7%5D%5Borderable%5D=true&columns%5B7%5D%5Bsearch%5D%5Bvalue%5D&columns%5B7%5D%5Bsearch%5D%5Bregex%5D=false&columns%5B8%5D%5Bdata%5D=netto&columns%5B8%5D%5Bname%5D=field-netto&columns%5B8%5D%5Bsearchable%5D=true&columns%5B8%5D%5Borderable%5D=true&columns%5B8%5D%5Bsearch%5D%5Bvalue%5D&columns%5B8%5D%5Bsearch%5D%5Bregex%5D=false&columns%5B9%5D%5Bdata%5D=brutto&columns%5B9%5D%5Bname%5D=field-brutto&columns%5B9%5D%5Bsearchable%5D=true&columns%5B9%5D%5Borderable%5D=true&columns%5B9%5D%5Bsearch%5D%5Bvalue%5D&columns%5B9%5D%5Bsearch%5D%5Bregex%5D=false&columns%5B10%5D%5Bdata%5D&columns%5B10%5D%5Bname%5D=photo&columns%5B10%5D%5Bsearchable%5D=false&columns%5B10%5D%5Borderable%5D=false&columns%5B10%5D%5Bsearch%5D%5Bvalue%5D&columns%5B10%5D%5Bsearch%5D%5Bregex%5D=false&columns%5B11%5D%5Bdata%5D&columns%5B11%5D%5Bname%5D=certificate&columns%5B11%5D%5Bsearchable%5D=false&columns%5B11%5D%5Borderable%5D=false&columns%5B11%5D%5Bsearch%5D%5Bvalue%5D&columns%5B11%5D%5Bsearch%5D%5Bregex%5D=false&order%5B0%5D%5Bcolumn%5D=8&order%5B0%5D%5Bdir%5D=asc&start={}juy&length=20&search%5Bvalue%5D&search%5Bregex%5D=false&_=1634868373097'.format(start*20)\n",
    "    return queryurl"
   ]
  },
  {
   "cell_type": "code",
   "execution_count": 3,
   "id": "7c02336e-b8d6-46ac-9389-d6ae72dd6213",
   "metadata": {},
   "outputs": [],
   "source": [
    "def fetch_quest(i):\n",
    "    queryurl = get_querystr(i)\n",
    "    response = requests.get(queryurl)\n",
    "    if response.status_code != 200:\n",
    "        raise requests.exceptions.RequestException\n",
    "    data = response.json()['data']\n",
    "    return data\n",
    "    "
   ]
  },
  {
   "cell_type": "code",
   "execution_count": 4,
   "id": "0516e675-82c8-485d-861b-0a1f034c6459",
   "metadata": {},
   "outputs": [
    {
     "name": "stderr",
     "output_type": "stream",
     "text": [
      "  0%|          | 1/2199 [00:01<1:06:42,  1.82s/it]"
     ]
    },
    {
     "name": "stdout",
     "output_type": "stream",
     "text": [
      "Save 20 samples to: bmw-berlin-marathon_0.csv\n"
     ]
    },
    {
     "name": "stderr",
     "output_type": "stream",
     "text": [
      "  5%|▍         | 101/2199 [03:05<1:06:04,  1.89s/it]"
     ]
    },
    {
     "name": "stdout",
     "output_type": "stream",
     "text": [
      "Save 2020 samples to: bmw-berlin-marathon_1.csv\n"
     ]
    },
    {
     "name": "stderr",
     "output_type": "stream",
     "text": [
      "  9%|▉         | 201/2199 [06:10<1:01:09,  1.84s/it]"
     ]
    },
    {
     "name": "stdout",
     "output_type": "stream",
     "text": [
      "Save 4020 samples to: bmw-berlin-marathon_2.csv\n"
     ]
    },
    {
     "name": "stderr",
     "output_type": "stream",
     "text": [
      " 14%|█▎        | 301/2199 [09:12<59:20,  1.88s/it]  "
     ]
    },
    {
     "name": "stdout",
     "output_type": "stream",
     "text": [
      "Save 6020 samples to: bmw-berlin-marathon_3.csv\n"
     ]
    },
    {
     "name": "stderr",
     "output_type": "stream",
     "text": [
      " 18%|█▊        | 401/2199 [12:18<56:33,  1.89s/it]  "
     ]
    },
    {
     "name": "stdout",
     "output_type": "stream",
     "text": [
      "Save 8020 samples to: bmw-berlin-marathon_4.csv\n"
     ]
    },
    {
     "name": "stderr",
     "output_type": "stream",
     "text": [
      " 23%|██▎       | 501/2199 [15:26<55:33,  1.96s/it]"
     ]
    },
    {
     "name": "stdout",
     "output_type": "stream",
     "text": [
      "Save 10020 samples to: bmw-berlin-marathon_5.csv\n"
     ]
    },
    {
     "name": "stderr",
     "output_type": "stream",
     "text": [
      " 27%|██▋       | 601/2199 [18:35<50:38,  1.90s/it]"
     ]
    },
    {
     "name": "stdout",
     "output_type": "stream",
     "text": [
      "Save 12020 samples to: bmw-berlin-marathon_6.csv\n"
     ]
    },
    {
     "name": "stderr",
     "output_type": "stream",
     "text": [
      " 32%|███▏      | 701/2199 [21:43<46:34,  1.87s/it]"
     ]
    },
    {
     "name": "stdout",
     "output_type": "stream",
     "text": [
      "Save 14020 samples to: bmw-berlin-marathon_7.csv\n"
     ]
    },
    {
     "name": "stderr",
     "output_type": "stream",
     "text": [
      " 36%|███▋      | 801/2199 [24:59<48:29,  2.08s/it]"
     ]
    },
    {
     "name": "stdout",
     "output_type": "stream",
     "text": [
      "Save 16020 samples to: bmw-berlin-marathon_8.csv\n"
     ]
    },
    {
     "name": "stderr",
     "output_type": "stream",
     "text": [
      " 41%|████      | 901/2199 [28:20<43:30,  2.01s/it]"
     ]
    },
    {
     "name": "stdout",
     "output_type": "stream",
     "text": [
      "Save 18020 samples to: bmw-berlin-marathon_9.csv\n"
     ]
    },
    {
     "name": "stderr",
     "output_type": "stream",
     "text": [
      " 46%|████▌     | 1001/2199 [31:42<40:43,  2.04s/it]"
     ]
    },
    {
     "name": "stdout",
     "output_type": "stream",
     "text": [
      "Save 20020 samples to: bmw-berlin-marathon_10.csv\n"
     ]
    },
    {
     "name": "stderr",
     "output_type": "stream",
     "text": [
      " 50%|█████     | 1101/2199 [35:03<37:19,  2.04s/it]"
     ]
    },
    {
     "name": "stdout",
     "output_type": "stream",
     "text": [
      "Save 22020 samples to: bmw-berlin-marathon_11.csv\n"
     ]
    },
    {
     "name": "stderr",
     "output_type": "stream",
     "text": [
      " 55%|█████▍    | 1201/2199 [38:25<33:39,  2.02s/it]"
     ]
    },
    {
     "name": "stdout",
     "output_type": "stream",
     "text": [
      "Save 24020 samples to: bmw-berlin-marathon_12.csv\n"
     ]
    },
    {
     "name": "stderr",
     "output_type": "stream",
     "text": [
      " 59%|█████▉    | 1301/2199 [41:46<30:45,  2.06s/it]"
     ]
    },
    {
     "name": "stdout",
     "output_type": "stream",
     "text": [
      "Save 26020 samples to: bmw-berlin-marathon_13.csv\n"
     ]
    },
    {
     "name": "stderr",
     "output_type": "stream",
     "text": [
      " 64%|██████▎   | 1401/2199 [45:10<28:11,  2.12s/it]"
     ]
    },
    {
     "name": "stdout",
     "output_type": "stream",
     "text": [
      "Save 28020 samples to: bmw-berlin-marathon_14.csv\n"
     ]
    },
    {
     "name": "stderr",
     "output_type": "stream",
     "text": [
      " 68%|██████▊   | 1501/2199 [48:32<24:07,  2.07s/it]"
     ]
    },
    {
     "name": "stdout",
     "output_type": "stream",
     "text": [
      "Save 30020 samples to: bmw-berlin-marathon_15.csv\n"
     ]
    },
    {
     "name": "stderr",
     "output_type": "stream",
     "text": [
      " 73%|███████▎  | 1601/2199 [51:55<20:07,  2.02s/it]"
     ]
    },
    {
     "name": "stdout",
     "output_type": "stream",
     "text": [
      "Save 32020 samples to: bmw-berlin-marathon_16.csv\n"
     ]
    },
    {
     "name": "stderr",
     "output_type": "stream",
     "text": [
      " 77%|███████▋  | 1701/2199 [55:21<17:21,  2.09s/it]"
     ]
    },
    {
     "name": "stdout",
     "output_type": "stream",
     "text": [
      "Save 34020 samples to: bmw-berlin-marathon_17.csv\n"
     ]
    },
    {
     "name": "stderr",
     "output_type": "stream",
     "text": [
      " 82%|████████▏ | 1801/2199 [58:48<14:19,  2.16s/it]"
     ]
    },
    {
     "name": "stdout",
     "output_type": "stream",
     "text": [
      "Save 36020 samples to: bmw-berlin-marathon_18.csv\n"
     ]
    },
    {
     "name": "stderr",
     "output_type": "stream",
     "text": [
      " 86%|████████▋ | 1901/2199 [1:02:14<10:27,  2.11s/it]"
     ]
    },
    {
     "name": "stdout",
     "output_type": "stream",
     "text": [
      "Save 38020 samples to: bmw-berlin-marathon_19.csv\n"
     ]
    },
    {
     "name": "stderr",
     "output_type": "stream",
     "text": [
      " 91%|█████████ | 2001/2199 [1:05:42<07:16,  2.21s/it]"
     ]
    },
    {
     "name": "stdout",
     "output_type": "stream",
     "text": [
      "Save 40020 samples to: bmw-berlin-marathon_20.csv\n"
     ]
    },
    {
     "name": "stderr",
     "output_type": "stream",
     "text": [
      " 96%|█████████▌| 2101/2199 [1:09:13<03:33,  2.18s/it]"
     ]
    },
    {
     "name": "stdout",
     "output_type": "stream",
     "text": [
      "Save 42020 samples to: bmw-berlin-marathon_21.csv\n"
     ]
    },
    {
     "name": "stderr",
     "output_type": "stream",
     "text": [
      "100%|██████████| 2199/2199 [1:12:40<00:00,  1.98s/it]"
     ]
    },
    {
     "name": "stdout",
     "output_type": "stream",
     "text": [
      "Save 43976 samples to: bmw-berlin-marathon_21.csv\n",
      "# of data points: 43976\n",
      "# of unique data points: 29357\n"
     ]
    },
    {
     "name": "stderr",
     "output_type": "stream",
     "text": [
      "\n"
     ]
    }
   ],
   "source": [
    "N_PAGES = 2199\n",
    "# N_PAGES = 3  # For debugging only\n",
    "\n",
    "data_list = []\n",
    "for i in tqdm(range(N_PAGES)):\n",
    "    data_list = data_list + fetch_quest(i)\n",
    "    time.sleep(0.2)\n",
    "    \n",
    "    if i % 100 == 0 or i == N_PAGES - 1:\n",
    "        df_temp = pd.DataFrame(data_list)\n",
    "        file_name_temp = 'bmw-berlin-marathon_{}.csv'.format((i) // 100)\n",
    "        df_temp.to_csv(file_name_temp, index=False)\n",
    "        print('Save {} samples to: {}'.format(df_temp.shape[0], file_name_temp))\n",
    "\n",
    "df = pd.DataFrame(data_list)\n",
    "print('# of data points:', df.shape[0])\n",
    "print('# of unique data points:', len(df['placetotal'].unique()))\n",
    "df.to_csv('bmw-berlin-marathon.csv', index=False)"
   ]
  },
  {
   "cell_type": "code",
   "execution_count": 5,
   "id": "179491fe-7499-48ee-a59e-f66cb36c9c18",
   "metadata": {},
   "outputs": [
    {
     "name": "stdout",
     "output_type": "stream",
     "text": [
      "(43976, 10)\n"
     ]
    }
   ],
   "source": [
    "df = pd.read_csv('bmw-berlin-marathon.csv')\n",
    "print(df.shape)"
   ]
  },
  {
   "cell_type": "code",
   "execution_count": 8,
   "id": "c20b3634-bcbf-4d95-87a6-8ddcff8a36cd",
   "metadata": {},
   "outputs": [
    {
     "name": "stdout",
     "output_type": "stream",
     "text": [
      "(9, 43976)\n",
      "(43976, 18)\n"
     ]
    },
    {
     "data": {
      "text/html": [
       "<div>\n",
       "<style scoped>\n",
       "    .dataframe tbody tr th:only-of-type {\n",
       "        vertical-align: middle;\n",
       "    }\n",
       "\n",
       "    .dataframe tbody tr th {\n",
       "        vertical-align: top;\n",
       "    }\n",
       "\n",
       "    .dataframe thead th {\n",
       "        text-align: right;\n",
       "    }\n",
       "</style>\n",
       "<table border=\"1\" class=\"dataframe\">\n",
       "  <thead>\n",
       "    <tr style=\"text-align: right;\">\n",
       "      <th></th>\n",
       "      <th>placetotal</th>\n",
       "      <th>forename</th>\n",
       "      <th>name</th>\n",
       "      <th>nationality</th>\n",
       "      <th>start_no_text</th>\n",
       "      <th>club</th>\n",
       "      <th>sex</th>\n",
       "      <th>netto</th>\n",
       "      <th>brutto</th>\n",
       "      <th>5km</th>\n",
       "      <th>10km</th>\n",
       "      <th>15km</th>\n",
       "      <th>20km</th>\n",
       "      <th>HM</th>\n",
       "      <th>25km</th>\n",
       "      <th>30km</th>\n",
       "      <th>35km</th>\n",
       "      <th>40km</th>\n",
       "    </tr>\n",
       "  </thead>\n",
       "  <tbody>\n",
       "    <tr>\n",
       "      <th>0</th>\n",
       "      <td>1</td>\n",
       "      <td>Kenenisa</td>\n",
       "      <td>Bekele</td>\n",
       "      <td>ETH</td>\n",
       "      <td>2</td>\n",
       "      <td>Äthiopien</td>\n",
       "      <td>M</td>\n",
       "      <td>0 days 02:01:41</td>\n",
       "      <td>0 days 02:01:41</td>\n",
       "      <td>0 days 00:14:24</td>\n",
       "      <td>0 days 00:28:53</td>\n",
       "      <td>0 days 00:43:29</td>\n",
       "      <td>0 days 00:57:58</td>\n",
       "      <td>0 days 01:01:05</td>\n",
       "      <td>0 days 01:12:30</td>\n",
       "      <td>0 days 01:26:55</td>\n",
       "      <td>0 days 01:41:15</td>\n",
       "      <td>0 days 01:55:30</td>\n",
       "    </tr>\n",
       "    <tr>\n",
       "      <th>1</th>\n",
       "      <td>2</td>\n",
       "      <td>Birhanu</td>\n",
       "      <td>Legese</td>\n",
       "      <td>ETH</td>\n",
       "      <td>5</td>\n",
       "      <td>Äthiopien</td>\n",
       "      <td>M</td>\n",
       "      <td>0 days 02:02:48</td>\n",
       "      <td>0 days 02:02:48</td>\n",
       "      <td>0 days 00:14:25</td>\n",
       "      <td>0 days 00:28:53</td>\n",
       "      <td>0 days 00:43:29</td>\n",
       "      <td>0 days 00:57:58</td>\n",
       "      <td>0 days 01:01:05</td>\n",
       "      <td>0 days 01:12:30</td>\n",
       "      <td>0 days 01:26:53</td>\n",
       "      <td>0 days 01:41:02</td>\n",
       "      <td>0 days 01:56:00</td>\n",
       "    </tr>\n",
       "    <tr>\n",
       "      <th>2</th>\n",
       "      <td>3</td>\n",
       "      <td>Sisay</td>\n",
       "      <td>Lemma</td>\n",
       "      <td>ETH</td>\n",
       "      <td>4</td>\n",
       "      <td>Äthiopien</td>\n",
       "      <td>M</td>\n",
       "      <td>0 days 02:03:36</td>\n",
       "      <td>0 days 02:03:36</td>\n",
       "      <td>0 days 00:14:25</td>\n",
       "      <td>0 days 00:28:52</td>\n",
       "      <td>0 days 00:43:29</td>\n",
       "      <td>0 days 00:57:58</td>\n",
       "      <td>0 days 01:01:06</td>\n",
       "      <td>0 days 01:12:31</td>\n",
       "      <td>0 days 01:26:53</td>\n",
       "      <td>0 days 01:41:16</td>\n",
       "      <td>0 days 01:56:54</td>\n",
       "    </tr>\n",
       "    <tr>\n",
       "      <th>3</th>\n",
       "      <td>4</td>\n",
       "      <td>Jonathan</td>\n",
       "      <td>Korir</td>\n",
       "      <td>KEN</td>\n",
       "      <td>7</td>\n",
       "      <td>Kenia</td>\n",
       "      <td>M</td>\n",
       "      <td>0 days 02:06:45</td>\n",
       "      <td>0 days 02:06:45</td>\n",
       "      <td>0 days 00:14:25</td>\n",
       "      <td>0 days 00:28:53</td>\n",
       "      <td>0 days 00:43:30</td>\n",
       "      <td>0 days 00:57:58</td>\n",
       "      <td>0 days 01:01:06</td>\n",
       "      <td>0 days 01:12:31</td>\n",
       "      <td>0 days 01:27:42</td>\n",
       "      <td>0 days 01:43:39</td>\n",
       "      <td>0 days 01:59:49</td>\n",
       "    </tr>\n",
       "    <tr>\n",
       "      <th>4</th>\n",
       "      <td>5</td>\n",
       "      <td>Felix</td>\n",
       "      <td>Kandie</td>\n",
       "      <td>KEN</td>\n",
       "      <td>6</td>\n",
       "      <td>Kenia</td>\n",
       "      <td>M</td>\n",
       "      <td>0 days 02:08:07</td>\n",
       "      <td>0 days 02:08:07</td>\n",
       "      <td>0 days 00:14:43</td>\n",
       "      <td>0 days 00:29:30</td>\n",
       "      <td>0 days 00:44:19</td>\n",
       "      <td>0 days 00:59:06</td>\n",
       "      <td>0 days 01:02:20</td>\n",
       "      <td>0 days 01:14:04</td>\n",
       "      <td>0 days 01:28:58</td>\n",
       "      <td>0 days 01:44:10</td>\n",
       "      <td>0 days 02:00:27</td>\n",
       "    </tr>\n",
       "  </tbody>\n",
       "</table>\n",
       "</div>"
      ],
      "text/plain": [
       "   placetotal  forename    name nationality start_no_text       club sex  \\\n",
       "0           1  Kenenisa  Bekele         ETH             2  Äthiopien   M   \n",
       "1           2   Birhanu  Legese         ETH             5  Äthiopien   M   \n",
       "2           3     Sisay   Lemma         ETH             4  Äthiopien   M   \n",
       "3           4  Jonathan   Korir         KEN             7      Kenia   M   \n",
       "4           5     Felix  Kandie         KEN             6      Kenia   M   \n",
       "\n",
       "            netto          brutto             5km            10km  \\\n",
       "0 0 days 02:01:41 0 days 02:01:41 0 days 00:14:24 0 days 00:28:53   \n",
       "1 0 days 02:02:48 0 days 02:02:48 0 days 00:14:25 0 days 00:28:53   \n",
       "2 0 days 02:03:36 0 days 02:03:36 0 days 00:14:25 0 days 00:28:52   \n",
       "3 0 days 02:06:45 0 days 02:06:45 0 days 00:14:25 0 days 00:28:53   \n",
       "4 0 days 02:08:07 0 days 02:08:07 0 days 00:14:43 0 days 00:29:30   \n",
       "\n",
       "             15km            20km              HM            25km  \\\n",
       "0 0 days 00:43:29 0 days 00:57:58 0 days 01:01:05 0 days 01:12:30   \n",
       "1 0 days 00:43:29 0 days 00:57:58 0 days 01:01:05 0 days 01:12:30   \n",
       "2 0 days 00:43:29 0 days 00:57:58 0 days 01:01:06 0 days 01:12:31   \n",
       "3 0 days 00:43:30 0 days 00:57:58 0 days 01:01:06 0 days 01:12:31   \n",
       "4 0 days 00:44:19 0 days 00:59:06 0 days 01:02:20 0 days 01:14:04   \n",
       "\n",
       "             30km            35km            40km  \n",
       "0 0 days 01:26:55 0 days 01:41:15 0 days 01:55:30  \n",
       "1 0 days 01:26:53 0 days 01:41:02 0 days 01:56:00  \n",
       "2 0 days 01:26:53 0 days 01:41:16 0 days 01:56:54  \n",
       "3 0 days 01:27:42 0 days 01:43:39 0 days 01:59:49  \n",
       "4 0 days 01:28:58 0 days 01:44:10 0 days 02:00:27  "
      ]
     },
     "execution_count": 8,
     "metadata": {},
     "output_type": "execute_result"
    }
   ],
   "source": [
    "# Format timespan\n",
    "splits = [s.split(',') for s in df.splits.to_list()]\n",
    "splits = np.array(splits)\n",
    "splits = splits.T\n",
    "print(splits.shape)\n",
    "\n",
    "cols = ['5km', '10km', '15km', '20km', 'HM', '25km', '30km', '35km', '40km']\n",
    "results = dict(zip(cols, splits))\n",
    "df = df.drop(['splits'], axis=1)\n",
    "df = df.assign(**results)\n",
    "\n",
    "for c in ['netto', 'brutto'] + cols:\n",
    "    df[c] = pd.to_timedelta(df[c])\n",
    "    \n",
    "print(df.shape)\n",
    "df.head()"
   ]
  },
  {
   "cell_type": "code",
   "execution_count": 13,
   "id": "ab926cd7-1744-4a3e-8944-45b3bb6a9841",
   "metadata": {},
   "outputs": [
    {
     "name": "stdout",
     "output_type": "stream",
     "text": [
      "# of data points: 43976\n",
      "Unique names:\n"
     ]
    },
    {
     "data": {
      "text/plain": [
       "forename    12167\n",
       "name        28348\n",
       "dtype: int64"
      ]
     },
     "execution_count": 13,
     "metadata": {},
     "output_type": "execute_result"
    }
   ],
   "source": [
    "print('# of data points:', df.shape[0])\n",
    "\n",
    "print('Unique names:')\n",
    "df[['forename', 'name']].nunique()"
   ]
  },
  {
   "cell_type": "code",
   "execution_count": 14,
   "id": "fcd50df3-b6e8-4a10-ab1d-2fa0bea65c27",
   "metadata": {},
   "outputs": [],
   "source": [
    "df.to_csv('bmw-berlin-marathon_preprocessed.csv', index=False)"
   ]
  },
  {
   "cell_type": "code",
   "execution_count": null,
   "id": "09c02a60-be67-4697-b6f0-a810b599b862",
   "metadata": {},
   "outputs": [],
   "source": []
  }
 ],
 "metadata": {
  "kernelspec": {
   "display_name": "Python 3.6.9 64-bit ('venv': venv)",
   "language": "python",
   "name": "python369jvsc74a57bd06c8d5cda67aa783f591800121e701b8e3a3af617e83c321f07d64fa9dcfea84e"
  },
  "language_info": {
   "codemirror_mode": {
    "name": "ipython",
    "version": 3
   },
   "file_extension": ".py",
   "mimetype": "text/x-python",
   "name": "python",
   "nbconvert_exporter": "python",
   "pygments_lexer": "ipython3",
   "version": "3.6.9"
  }
 },
 "nbformat": 4,
 "nbformat_minor": 5
}
